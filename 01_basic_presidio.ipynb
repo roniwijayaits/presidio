{
 "cells": [
  {
   "cell_type": "code",
   "execution_count": 21,
   "id": "620920d3",
   "metadata": {},
   "outputs": [],
   "source": [
    "from presidio_analyzer import AnalyzerEngine\n",
    "from presidio_anonymizer import AnonymizerEngine"
   ]
  },
  {
   "cell_type": "code",
   "execution_count": null,
   "id": "a06edf90",
   "metadata": {},
   "outputs": [],
   "source": [
    "text_to_anonymize = \"My name is John Doe and my email is roniend@telkom.net and my phone number is 123-456-7890.\"\n",
    "\"\"\"\n",
    "Entity: EMAIL_ADDRESS, Start: 36, End: 54, Score: 1.00\n",
    "roniend@telkom.net EMAIL_ADDRESS\n",
    "Entity: PERSON, Start: 11, End: 19, Score: 0.85\n",
    "John Doe PERSON\n",
    "Entity: PHONE_NUMBER, Start: 78, End: 90, Score: 0.75\n",
    "123-456-7890 PHONE_NUMBER\n",
    "\"\"\""
   ]
  },
  {
   "cell_type": "markdown",
   "id": "704097a4",
   "metadata": {},
   "source": []
  },
  {
   "cell_type": "code",
   "execution_count": 12,
   "id": "0394d3cb",
   "metadata": {},
   "outputs": [
    {
     "data": {
      "text/plain": [
       "'\\nEntity: EMAIL_ADDRESS, Start: 28, End: 46, Score: 1.00\\nroniend@telkom.net EMAIL_ADDRESS\\nEntity: PERSON, Start: 3, End: 11, Score: 0.85\\nJohn Doe PERSON\\nEntity: PHONE_NUMBER, Start: 70, End: 82, Score: 0.75\\n123-456-7890 PHONE_NUMBER\\n'"
      ]
     },
     "execution_count": 12,
     "metadata": {},
     "output_type": "execute_result"
    }
   ],
   "source": [
    "#text_to_anonymize = \"im John Doe and my email is roniend@telkom.net and my phone number is 123-456-7890.\"\n",
    "\"\"\"\n",
    "Entity: EMAIL_ADDRESS, Start: 28, End: 46, Score: 1.00\n",
    "roniend@telkom.net EMAIL_ADDRESS\n",
    "Entity: PERSON, Start: 3, End: 11, Score: 0.85\n",
    "John Doe PERSON\n",
    "Entity: PHONE_NUMBER, Start: 70, End: 82, Score: 0.75\n",
    "123-456-7890 PHONE_NUMBER\n",
    "\"\"\""
   ]
  },
  {
   "cell_type": "code",
   "execution_count": 13,
   "id": "b21f1b80",
   "metadata": {},
   "outputs": [
    {
     "name": "stdout",
     "output_type": "stream",
     "text": [
      "[type: EMAIL_ADDRESS, start: 36, end: 54, score: 1.0, type: PERSON, start: 11, end: 19, score: 0.85, type: PHONE_NUMBER, start: 78, end: 90, score: 0.75]\n"
     ]
    }
   ],
   "source": [
    "# please check the supported entities in the Presidio documentation\n",
    "# https://microsoft.github.io/presidio/analyzer/\n",
    "# https://microsoft.github.io/presidio/anonymizer/\n",
    "# https://microsoft.github.io/presidio/supported_entities/\n",
    "analyzer = AnalyzerEngine()\n",
    "analyzer_results = analyzer.analyze(text=text_to_anonymize, entities=[\"PHONE_NUMBER\",\"PERSON\",\"EMAIL_ADDRESS\"],  language=\"en\")\n",
    "print(analyzer_results)"
   ]
  },
  {
   "cell_type": "code",
   "execution_count": null,
   "id": "4da0263d",
   "metadata": {},
   "outputs": [
    {
     "name": "stdout",
     "output_type": "stream",
     "text": [
      "Entity: EMAIL_ADDRESS, Start: 36, End: 54, Score: 1.00\n",
      "roniend@telkom.net EMAIL_ADDRESS\n",
      "Entity: PERSON, Start: 11, End: 19, Score: 0.85\n",
      "John Doe PERSON\n",
      "Entity: PHONE_NUMBER, Start: 78, End: 90, Score: 0.75\n",
      "123-456-7890 PHONE_NUMBER\n"
     ]
    }
   ],
   "source": [
    "for result in analyzer_results:\n",
    "    print(f\"Entity: {result.entity_type}, {text_to_anonymize[result.start:result.end]} Start: {result.start}, End: {result.end}, Score: {result.score:.2f}\")"
   ]
  },
  {
   "cell_type": "markdown",
   "id": "cf00c54b",
   "metadata": {},
   "source": [
    "##2. Add custom entity"
   ]
  },
  {
   "cell_type": "code",
   "execution_count": 15,
   "id": "fa330766",
   "metadata": {},
   "outputs": [],
   "source": [
    "#an entity id to identify any token that contains 2 letters and 3 digits\n",
    "from presidio_analyzer import Pattern, PatternRecognizer\n",
    "\n",
    "# Define the regex pattern for the custom entity\n",
    "id_pattern = Pattern(name=\"id_pattern\", regex=r\"\\d{6}\", score=0.5)\n",
    "\n",
    "# Define the recognizer for the custom entity\n",
    "id_recognizer = PatternRecognizer(supported_entity=\"ID\", patterns=[id_pattern])\n",
    "\n",
    "# Add the custom recognizer to the analyzer\n",
    "analyzer.registry.add_recognizer(id_recognizer)"
   ]
  },
  {
   "cell_type": "code",
   "execution_count": 16,
   "id": "fe9b4941",
   "metadata": {},
   "outputs": [
    {
     "name": "stdout",
     "output_type": "stream",
     "text": [
      "[type: EMAIL_ADDRESS, start: 36, end: 54, score: 1.0, type: PERSON, start: 11, end: 19, score: 0.85, type: PHONE_NUMBER, start: 78, end: 90, score: 0.75, type: ID, start: 105, end: 111, score: 0.5]\n"
     ]
    }
   ],
   "source": [
    "text_to_anonymize+= \" and my ID is 123456.\"\n",
    "analyzer_results = analyzer.analyze(text=text_to_anonymize, entities=[\"PHONE_NUMBER\",\"PERSON\",\"EMAIL_ADDRESS\",\"ID\"], language=\"en\")\n",
    "print(analyzer_results)"
   ]
  },
  {
   "cell_type": "code",
   "execution_count": null,
   "id": "2ab0a9e0",
   "metadata": {},
   "outputs": [
    {
     "name": "stdout",
     "output_type": "stream",
     "text": [
      "Entity: EMAIL_ADDRESS, roniend@telkom.net Start: 36, End: 54, Score: 1.00\n",
      "Entity: PERSON, John Doe Start: 11, End: 19, Score: 0.85\n",
      "Entity: PHONE_NUMBER, 123-456-7890 Start: 78, End: 90, Score: 0.75\n",
      "Entity: ID, 123456 Start: 105, End: 111, Score: 0.50\n"
     ]
    }
   ],
   "source": [
    "for result in analyzer_results:\n",
    "    print(f\"Entity: {result.entity_type}, {text_to_anonymize[result.start:result.end]} Start: {result.start}, End: {result.end}, Score: {result.score:.2f}\")"
   ]
  },
  {
   "cell_type": "markdown",
   "id": "f307985a",
   "metadata": {},
   "source": [
    "3. Anonymize sensitive data"
   ]
  },
  {
   "cell_type": "code",
   "execution_count": 22,
   "id": "023f9387",
   "metadata": {},
   "outputs": [
    {
     "name": "stdout",
     "output_type": "stream",
     "text": [
      "text: My name is <PERSON> and my email is <EMAIL_ADDRESS> and my phone number is <PHONE_NUMBER>. and my ID is <ID>.\n"
     ]
    }
   ],
   "source": [
    "anonymizer = AnonymizerEngine()\n",
    "\n",
    "anonymized_results = anonymizer.anonymize(\n",
    "    text=text_to_anonymize,\n",
    "    analyzer_results=analyzer_results,\n",
    ")\n",
    "print(f\"text: {anonymized_results.text}\")"
   ]
  },
  {
   "cell_type": "markdown",
   "id": "b2575686",
   "metadata": {},
   "source": [
    "4. Custom anonymization"
   ]
  },
  {
   "cell_type": "code",
   "execution_count": 29,
   "id": "3ce25f7c",
   "metadata": {},
   "outputs": [
    {
     "name": "stdout",
     "output_type": "stream",
     "text": [
      "text: My name is <PERSON> and my email is <EMAIL_ADDRESS> and my phone number is ************. and my ID is <ID>.\n"
     ]
    }
   ],
   "source": [
    "from presidio_anonymizer.entities import OperatorConfig\n",
    "\n",
    "operators = {\"PHONE_NUMBER\": OperatorConfig(\n",
    "    \"mask\",\n",
    "        {\"type\":\"mask\", \n",
    "         \"masking_char\": \"*\", \n",
    "         \"chars_to_mask\":12,\n",
    "         \"from_end\":True,\n",
    "         \"DEFAULT\":OperatorConfig(\"replace\", {\"new_value\":\"<ANONYMIZED>\"})\n",
    "        },\n",
    "    )}\n",
    "\n",
    "custom_anonymized_results = anonymizer.anonymize(\n",
    "    text=text_to_anonymize,\n",
    "    analyzer_results=analyzer_results,\n",
    "    operators=operators,\n",
    ")\n",
    "\n",
    "print(f\"text: {custom_anonymized_results.text}\")"
   ]
  },
  {
   "cell_type": "code",
   "execution_count": null,
   "id": "e707bedf",
   "metadata": {},
   "outputs": [],
   "source": []
  }
 ],
 "metadata": {
  "kernelspec": {
   "display_name": "python",
   "language": "python",
   "name": "python3"
  },
  "language_info": {
   "codemirror_mode": {
    "name": "ipython",
    "version": 3
   },
   "file_extension": ".py",
   "mimetype": "text/x-python",
   "name": "python",
   "nbconvert_exporter": "python",
   "pygments_lexer": "ipython3",
   "version": "3.11.0"
  }
 },
 "nbformat": 4,
 "nbformat_minor": 5
}
